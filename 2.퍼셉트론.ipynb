{
 "cells": [
  {
   "cell_type": "markdown",
   "metadata": {},
   "source": [
    "# 2. 퍼셉트론\n",
    "\n",
    "- 이후 나오는 코드 및 사진은 저장소 이름의 책에서 나온 것임을 알립니다.\n",
    "-  1 장은 Python의 기본적인 내용이므로 제외"
   ]
  },
  {
   "cell_type": "markdown",
   "metadata": {},
   "source": [
    "- 신경망의 기원이 되는 알고리즘"
   ]
  },
  {
   "cell_type": "markdown",
   "metadata": {},
   "source": [
    "## 2.1 퍼셉트론이란?\n",
    "\n",
    "- 다수의 신호를 입력으로 받아 하나의 신호를 출력\n",
    "    - 신호 : 흐른다(1) / 안 흐른다(0)\n",
    "\n",
    "![그림2-1입력이2개인퍼셉트론](./images/2.퍼셉트론/2-1_입력이_2개인_퍼셉트론.jpg)"
   ]
  },
  {
   "cell_type": "markdown",
   "metadata": {},
   "source": [
    "### 그림2-1 구성\n",
    "- 그림 2-1 : 2개의 신호를 받은 퍼셉트론의 예\n",
    "- x<sub>1</sub>, x<sub>2</sub> : 입력 신호\n",
    "- y : 출력 신호\n",
    "- w<sub>1</sub>, w<sub>2</sub> : 가중치\n",
    "- 그림의 원 : 노드\n",
    "\n",
    "\n",
    "### 퍼셉트론의 동작 원리\n",
    "- 입력 신호가 뉴런에 보내질 때 고유한 가중치가 곱해진다.\n",
    "    - w<sub>1</sub>x<sub>1</sub>, w<sub>2</sub>x<sub>2</sub>\n",
    "\n",
    "\n",
    "- 뉴런에서 보내온 신호의 총합이 정해진 한계를 넘어설 때 1을 출력\n",
    "    - 한계 : 임계값(threshold), Θ 기호로 나타낸다.\n",
    "       \n",
    "       \n",
    "### 퍼셉트론 동작(수식 표현)\n",
    "$$\n",
    "y = \\begin{cases}\n",
    "0 & (w_1x_1 + w_2x_2 \\le \\theta) \\\\\n",
    "1 & (w_1x_1 + w_2x_2 \\gt \\theta)\n",
    "\\end{cases}\n",
    "$$\n",
    "\n",
    "\n",
    "- 가중치가 클 수록 해당 신호가 그만큼 더 중요함을 의미"
   ]
  },
  {
   "cell_type": "markdown",
   "metadata": {},
   "source": [
    "## 2.2 단순한 논리 회로\n",
    "\n",
    "### 2.2.1 AND 게이트\n",
    "\n",
    "- 입력이 둘, 출력 하나\n",
    "- 두 입력이 모두 1일 때만 1을 출력\n",
    "\n",
    "\n",
    "- 진리표 \n",
    "![그림2-2AND게이트의진리표](./images/2.퍼셉트론/2-2AND게이트의진리표.jpg)"
   ]
  },
  {
   "cell_type": "markdown",
   "metadata": {},
   "source": [
    "### AND 게이트를 퍼셉트론으로 표현\n",
    "\n",
    "- 입력값은 0, 1의 조합으로 정해져있음\n",
    "- w<sub>1</sub>, w<sub>2</sub>와 Θ를 조정하여 AND 게이트를 퍼셉트론으로 표현\n",
    "\n",
    "\n",
    "- 그림 2-2를 만족하는 매개변수 조합\n",
    "    1. (0.5, 0.5, 0.7)\n",
    "    2. (0.5, 0.5, 0.8) 등등 "
   ]
  },
  {
   "cell_type": "markdown",
   "metadata": {},
   "source": [
    "### 2.2.2 NAND 게이트와 OR 게이트\n",
    "\n",
    "- Not AND를 의미\n",
    "\n",
    "\n",
    "- NAND의 진리표\n",
    "![2-3NAND게이트의진리표](./images/2.퍼셉트론/2-3NAND게이트의진리표.jpg)"
   ]
  },
  {
   "cell_type": "markdown",
   "metadata": {},
   "source": [
    "### NAND 게이트를 퍼셉트론으로 표현\n",
    "\n",
    "- 그림 2-3을 만족하는 매개변수 조합\n",
    "    - (-0.5, -0.5, -0.7)\n",
    "    \n",
    "    \n",
    "- OR 게이트의 진리표\n",
    "![2-4OR게이트의진리표](./images/2.퍼셉트론/2-4OR게이트의진리표.jpg)\n",
    "\n",
    "- 그림 2-4를 만족하는 매개변수 조합\n",
    "    - (0.5, 0.5, 0.1)"
   ]
  },
  {
   "cell_type": "markdown",
   "metadata": {},
   "source": [
    "## 2.3 퍼셉트론 구현하기\n",
    "\n",
    "\n",
    "### 2.3.1 간단한 구현"
   ]
  },
  {
   "cell_type": "code",
   "execution_count": 1,
   "metadata": {},
   "outputs": [],
   "source": [
    "def AND(x1, x2):\n",
    "    w1, w2, theta = 0.5, 0.5, 0.7\n",
    "    \n",
    "    # 매개변수와 입력값의 연산 총합\n",
    "    tmp = w1*x1 + w2*x2\n",
    "    \n",
    "    if tmp <= theta:\n",
    "        return 0\n",
    "    else:\n",
    "        return 1"
   ]
  },
  {
   "cell_type": "markdown",
   "metadata": {},
   "source": [
    "### AND 함수 출력 확인"
   ]
  },
  {
   "cell_type": "code",
   "execution_count": 2,
   "metadata": {},
   "outputs": [
    {
     "name": "stdout",
     "output_type": "stream",
     "text": [
      "AND(0,0) = 0\n",
      "AND(1,0) = 0\n",
      "AND(0,1) = 0\n",
      "AND(1,1) = 1\n"
     ]
    }
   ],
   "source": [
    "print(\"AND(0,0) = {0}\".format(AND(0,0)))\n",
    "print(\"AND(1,0) = {0}\".format(AND(1,0)))\n",
    "print(\"AND(0,1) = {0}\".format(AND(0,1)))\n",
    "print(\"AND(1,1) = {0}\".format(AND(1,1)))"
   ]
  },
  {
   "cell_type": "markdown",
   "metadata": {},
   "source": [
    "### 2.3.2 가중치와 편향 도입\n",
    "\n",
    "- 식 2-1의 Θ를 -b로 치환\n",
    "$$\n",
    "y = \n",
    "\\begin{cases}\n",
    "0 & (b + w-1x_1 + w_2x_2 \\le 0) \\\\\n",
    "1 & (b + w-1x_1 + w_2x_2 \\gt 0)\n",
    "\\end{cases}\n",
    "$$\n",
    "\n",
    "\n",
    "- 위 식의 b를 편향(bias)이라고 한다."
   ]
  },
  {
   "cell_type": "code",
   "execution_count": 3,
   "metadata": {},
   "outputs": [],
   "source": [
    "import numpy as np\n",
    "x = np.array([0,1])\n",
    "w = np.array([0.5, 0.5])\n",
    "b = -0.7"
   ]
  },
  {
   "cell_type": "code",
   "execution_count": 4,
   "metadata": {},
   "outputs": [
    {
     "data": {
      "text/plain": [
       "array([0. , 0.5])"
      ]
     },
     "execution_count": 4,
     "metadata": {},
     "output_type": "execute_result"
    }
   ],
   "source": [
    "w*x # numpy 배열끼리의 곱셈은 두 배열의 원소 수가 같으면 각 원소끼리 곱한다."
   ]
  },
  {
   "cell_type": "code",
   "execution_count": 5,
   "metadata": {},
   "outputs": [
    {
     "data": {
      "text/plain": [
       "0.5"
      ]
     },
     "execution_count": 5,
     "metadata": {},
     "output_type": "execute_result"
    }
   ],
   "source": [
    "np.sum(w*x)"
   ]
  },
  {
   "cell_type": "code",
   "execution_count": 6,
   "metadata": {},
   "outputs": [
    {
     "data": {
      "text/plain": [
       "-0.19999999999999996"
      ]
     },
     "execution_count": 6,
     "metadata": {},
     "output_type": "execute_result"
    }
   ],
   "source": [
    "np.sum(w*x) + b"
   ]
  },
  {
   "cell_type": "markdown",
   "metadata": {},
   "source": [
    "### 2.3.3 가중치와 편향 구현하기"
   ]
  },
  {
   "cell_type": "code",
   "execution_count": 7,
   "metadata": {},
   "outputs": [],
   "source": [
    "def AND(x1, x2):\n",
    "    x = np.array([x1, x2])\n",
    "    w = np.array([0.5, 0.5])\n",
    "    b = -0.7 # Θ = -b 이다.\n",
    "    tmp = np.sum(w*x) + b\n",
    "    \n",
    "    if tmp <= 0:\n",
    "        return 0\n",
    "    else:\n",
    "        return 1"
   ]
  },
  {
   "cell_type": "markdown",
   "metadata": {},
   "source": [
    "### 편향의 의미\n",
    "- 뉴런이 얼마나 쉽게 활성화 하느냐를 조정하는 매개변수"
   ]
  },
  {
   "cell_type": "markdown",
   "metadata": {},
   "source": [
    "### NAND 게이트, OR 게이트 구현"
   ]
  },
  {
   "cell_type": "code",
   "execution_count": 8,
   "metadata": {},
   "outputs": [],
   "source": [
    "def NAND(x1, x2):\n",
    "    x = np.array([x1, x2])\n",
    "    w = np.array([-0.5, -0.5])\n",
    "    b = 0.7\n",
    "    \n",
    "    tmp = np.sum(w*x) + b\n",
    "    \n",
    "    if tmp <= 0:\n",
    "        return 0\n",
    "    else:\n",
    "        return 1"
   ]
  },
  {
   "cell_type": "code",
   "execution_count": 9,
   "metadata": {},
   "outputs": [],
   "source": [
    "def OR(x1, x2):\n",
    "    x = np.array([x1, x2])\n",
    "    w = np.array([0.5, 0.5])\n",
    "    b = -0.2\n",
    "    \n",
    "    tmp = np.sum(w*x) + b\n",
    "    \n",
    "    if tmp <= 0:\n",
    "        return 0\n",
    "    else:\n",
    "        return 1"
   ]
  },
  {
   "cell_type": "markdown",
   "metadata": {},
   "source": [
    "## 2.4 퍼셉트론의 한계"
   ]
  },
  {
   "cell_type": "markdown",
   "metadata": {},
   "source": [
    "- 퍼셉트론의 한계를 알아보기 위해서 XOR 게이트를 고려"
   ]
  },
  {
   "cell_type": "markdown",
   "metadata": {},
   "source": [
    "### 2.4.1 XOR 게이트"
   ]
  },
  {
   "cell_type": "markdown",
   "metadata": {},
   "source": [
    "- XOR 게이트\n",
    "![2-5XOR게이트진리표](./images/2.퍼셉트론/2-5XOR게이트진리표.jpg)"
   ]
  },
  {
   "cell_type": "markdown",
   "metadata": {},
   "source": [
    "### 퍼셉트론으로는 XOR 게이트를 구현할 수 없다.\n",
    "- 퍼셉트론은 선형 그래프 만을 출력할 수 있기 때문"
   ]
  },
  {
   "cell_type": "markdown",
   "metadata": {},
   "source": [
    "## 2.5 다층 퍼셉트론"
   ]
  },
  {
   "cell_type": "markdown",
   "metadata": {},
   "source": [
    "- 여러 층의 퍼셉트론을 쌓아 만든 퍼셉트론\n",
    "\n",
    "\n",
    "### 2.5.1 기존 게이트 조합하기\n",
    "\n",
    "\n",
    "### XOR게이트를 AND, NAND, OR 게이트의 조합으로 표현\n",
    "\n",
    "\n",
    "- 게이트 조합으로 XOR 게이트를 표현하기\n",
    "![2-11AND,NAND,OR게이트를조합해구현한XOR게이트](./images/2.퍼셉트론/2-11AND,NAND,OR게이트를조합해구현한XOR게이트.jpg)"
   ]
  },
  {
   "cell_type": "markdown",
   "metadata": {},
   "source": [
    "- XOR 게이트 진리표\n",
    "![2-12XOR게이트의진리표](./images/2.퍼셉트론/2-12XOR게이트의진리표.jpg)"
   ]
  },
  {
   "cell_type": "markdown",
   "metadata": {},
   "source": [
    "### 2.5.2 XOR 게이트 구현하기"
   ]
  },
  {
   "cell_type": "code",
   "execution_count": 10,
   "metadata": {},
   "outputs": [],
   "source": [
    "def XOR(x1, x2):\n",
    "    s1 = NAND(x1, x2)\n",
    "    s2 = OR(x1, x2)\n",
    "    y = AND(s1, s2)\n",
    "    return y"
   ]
  },
  {
   "cell_type": "code",
   "execution_count": 11,
   "metadata": {},
   "outputs": [
    {
     "name": "stdout",
     "output_type": "stream",
     "text": [
      "XOR(0,0) = 0\n",
      "XOR(1,0) = 1\n",
      "XOR(0,1) = 1\n",
      "XOR(1,1) = 0\n"
     ]
    }
   ],
   "source": [
    "print(\"XOR(0,0) = {0}\".format(XOR(0,0)))\n",
    "print(\"XOR(1,0) = {0}\".format(XOR(1,0)))\n",
    "print(\"XOR(0,1) = {0}\".format(XOR(0,1)))\n",
    "print(\"XOR(1,1) = {0}\".format(XOR(1,1)))"
   ]
  },
  {
   "cell_type": "markdown",
   "metadata": {},
   "source": [
    "### XOR 게이트의 퍼셉트론 표현\n",
    "![2-13XOR의퍼셉트론](./images/2.퍼셉트론/2-13XOR의퍼셉트론.jpg)"
   ]
  },
  {
   "cell_type": "markdown",
   "metadata": {},
   "source": [
    "### XOR 구현 의미\n",
    "\n",
    "- 단층 퍼셉트론으로 표현하지 못하는 것을 표현 가능\n",
    "- 선형에서 비선형 그래프의 생성 가능"
   ]
  },
  {
   "cell_type": "code",
   "execution_count": null,
   "metadata": {},
   "outputs": [],
   "source": []
  }
 ],
 "metadata": {
  "kernelspec": {
   "display_name": "python3.6",
   "language": "python",
   "name": "python3.6"
  },
  "language_info": {
   "codemirror_mode": {
    "name": "ipython",
    "version": 3
   },
   "file_extension": ".py",
   "mimetype": "text/x-python",
   "name": "python",
   "nbconvert_exporter": "python",
   "pygments_lexer": "ipython3",
   "version": "3.6.10"
  }
 },
 "nbformat": 4,
 "nbformat_minor": 4
}
